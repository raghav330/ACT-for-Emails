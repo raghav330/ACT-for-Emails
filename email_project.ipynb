{
 "cells": [
  {
   "cell_type": "markdown",
   "metadata": {},
   "source": [
    "# Air Traffic Control For Emails\n",
    "#### _by **Raghav Gurung**_"
   ]
  },
  {
   "cell_type": "code",
   "execution_count": 1,
   "metadata": {},
   "outputs": [],
   "source": [
    "# Importing dependencies\n",
    "import pandas as pd\n",
    "import numpy as np\n",
    "import matplotlib.pyplot as plt\n",
    "%matplotlib inline\n",
    "import warnings\n",
    "warnings.filterwarnings('ignore')\n"
   ]
  },
  {
   "cell_type": "markdown",
   "metadata": {},
   "source": [
    "---\n",
    "## Reading Email Report\n",
    "\n",
    "The Email Report has one year (Week 1 - Week 52) history of all the campaigns that were deployed by the company. The report includes each campaign’s performance details - open rate, click rate, unique click rate, unsubscribe rate 3,372 records with the following columns:\n",
    "\n",
    "- **Week** - The week in which the email was deployed\n",
    "- **Business** - The business (Clothing, Grocery and Homeware) for which the email was done\n",
    "- **Message** - The unique identifier for each campaign\n",
    "- **Email Type** - The purpose of the email i.e. some of the campaigns are done by the company to inform the customers about something like closing/opening of store, offers etc. where as the others are done for trade\n",
    "- **Delivered** - The number of customers who received the email\n",
    "- **Opened** - The number of customers who opened the email\n",
    "- **Clicked** - The number of customers who clicked on any section in the email\n",
    "- **Unsubscribed** - The number of customers who clicked on the unsubscribe link in the email"
   ]
  },
  {
   "cell_type": "code",
   "execution_count": 2,
   "metadata": {},
   "outputs": [
    {
     "data": {
      "text/html": [
       "<div>\n",
       "<style scoped>\n",
       "    .dataframe tbody tr th:only-of-type {\n",
       "        vertical-align: middle;\n",
       "    }\n",
       "\n",
       "    .dataframe tbody tr th {\n",
       "        vertical-align: top;\n",
       "    }\n",
       "\n",
       "    .dataframe thead th {\n",
       "        text-align: right;\n",
       "    }\n",
       "</style>\n",
       "<table border=\"1\" class=\"dataframe\">\n",
       "  <thead>\n",
       "    <tr style=\"text-align: right;\">\n",
       "      <th></th>\n",
       "      <th>Week</th>\n",
       "      <th>Business</th>\n",
       "      <th>Message</th>\n",
       "      <th>Email_Type</th>\n",
       "      <th>Delivered</th>\n",
       "      <th>Opened</th>\n",
       "      <th>Clicked</th>\n",
       "      <th>Unsubscribed</th>\n",
       "    </tr>\n",
       "  </thead>\n",
       "  <tbody>\n",
       "    <tr>\n",
       "      <td>0</td>\n",
       "      <td>1</td>\n",
       "      <td>Clothing</td>\n",
       "      <td>ACQ_BABYKIDS_15_01_06_381</td>\n",
       "      <td>Trade</td>\n",
       "      <td>294890</td>\n",
       "      <td>73205</td>\n",
       "      <td>10249</td>\n",
       "      <td>1115</td>\n",
       "    </tr>\n",
       "    <tr>\n",
       "      <td>1</td>\n",
       "      <td>1</td>\n",
       "      <td>Clothing</td>\n",
       "      <td>ACQ_INSTORE_15_01_06_382</td>\n",
       "      <td>Trade</td>\n",
       "      <td>308032</td>\n",
       "      <td>82619</td>\n",
       "      <td>18090</td>\n",
       "      <td>1119</td>\n",
       "    </tr>\n",
       "    <tr>\n",
       "      <td>2</td>\n",
       "      <td>1</td>\n",
       "      <td>Homeware</td>\n",
       "      <td>ABASKET_15_01_01_902</td>\n",
       "      <td>Trade</td>\n",
       "      <td>1405</td>\n",
       "      <td>747</td>\n",
       "      <td>112</td>\n",
       "      <td>0</td>\n",
       "    </tr>\n",
       "    <tr>\n",
       "      <td>3</td>\n",
       "      <td>1</td>\n",
       "      <td>Homeware</td>\n",
       "      <td>ABASKET_15_01_02_902</td>\n",
       "      <td>Trade</td>\n",
       "      <td>1314</td>\n",
       "      <td>690</td>\n",
       "      <td>135</td>\n",
       "      <td>2</td>\n",
       "    </tr>\n",
       "    <tr>\n",
       "      <td>4</td>\n",
       "      <td>1</td>\n",
       "      <td>Homeware</td>\n",
       "      <td>ABASKET_15_01_05_902</td>\n",
       "      <td>Trade</td>\n",
       "      <td>1324</td>\n",
       "      <td>725</td>\n",
       "      <td>153</td>\n",
       "      <td>1</td>\n",
       "    </tr>\n",
       "  </tbody>\n",
       "</table>\n",
       "</div>"
      ],
      "text/plain": [
       "   Week  Business                    Message Email_Type  Delivered  Opened  \\\n",
       "0     1  Clothing  ACQ_BABYKIDS_15_01_06_381      Trade     294890   73205   \n",
       "1     1  Clothing   ACQ_INSTORE_15_01_06_382      Trade     308032   82619   \n",
       "2     1  Homeware       ABASKET_15_01_01_902      Trade       1405     747   \n",
       "3     1  Homeware       ABASKET_15_01_02_902      Trade       1314     690   \n",
       "4     1  Homeware       ABASKET_15_01_05_902      Trade       1324     725   \n",
       "\n",
       "   Clicked  Unsubscribed  \n",
       "0    10249          1115  \n",
       "1    18090          1119  \n",
       "2      112             0  \n",
       "3      135             2  \n",
       "4      153             1  "
      ]
     },
     "execution_count": 2,
     "metadata": {},
     "output_type": "execute_result"
    }
   ],
   "source": [
    "email_report = pd.read_csv('Email_Report.csv')\n",
    "email_report.head()"
   ]
  },
  {
   "cell_type": "markdown",
   "metadata": {},
   "source": [
    "## Exploring Data\n",
    "- Check for the correctness of the file\n",
    "- Check if we have all the required columns and if they are in the correct format\n"
   ]
  },
  {
   "cell_type": "markdown",
   "metadata": {},
   "source": [
    "---\n",
    "## Data Cleaning\n",
    "Check if there are any discrepancies in the data. For Example: For every email, the number of customers who opened, clicked or unsubscribed should always be less than the customers who received the email. Let’s check if that is true."
   ]
  },
  {
   "cell_type": "code",
   "execution_count": 3,
   "metadata": {},
   "outputs": [
    {
     "name": "stdout",
     "output_type": "stream",
     "text": [
      "5\n",
      "5\n",
      "146\n",
      "283\n"
     ]
    }
   ],
   "source": [
    "print(email_report[email_report.Opened > email_report.Delivered].shape[0])\n",
    "print(email_report[email_report.Clicked > email_report.Delivered].shape[0])\n",
    "print(email_report[email_report.Unsubscribed > email_report.Opened].shape[0])\n",
    "print(email_report[email_report.Unsubscribed > email_report.Clicked].shape[0])"
   ]
  },
  {
   "cell_type": "code",
   "execution_count": 4,
   "metadata": {},
   "outputs": [
    {
     "name": "stdout",
     "output_type": "stream",
     "text": [
      "(3070, 8)\n"
     ]
    }
   ],
   "source": [
    "# Remove the data issues\n",
    "email_report_cleaned = email_report[email_report.Opened < email_report.Delivered]\n",
    "email_report_cleaned = email_report[email_report.Clicked < email_report.Delivered]\n",
    "email_report_cleaned = email_report[email_report.Unsubscribed < email_report.Opened]\n",
    "email_report_cleaned = email_report[email_report.Unsubscribed < email_report.Clicked]\n",
    "print(email_report_cleaned.shape)"
   ]
  },
  {
   "cell_type": "code",
   "execution_count": 5,
   "metadata": {},
   "outputs": [],
   "source": [
    "# Adding email engagement metrics\n",
    "email_report_cleaned['Open_Rate'] = email_report_cleaned.Opened/email_report_cleaned.Delivered\n",
    "email_report_cleaned['Click_Rate'] = email_report_cleaned.Clicked/email_report_cleaned.Delivered\n",
    "email_report_cleaned['Unsub_Rate'] = email_report_cleaned.Unsubscribed/email_report_cleaned.Delivered"
   ]
  },
  {
   "cell_type": "code",
   "execution_count": 6,
   "metadata": {},
   "outputs": [
    {
     "data": {
      "text/html": [
       "<div>\n",
       "<style scoped>\n",
       "    .dataframe tbody tr th:only-of-type {\n",
       "        vertical-align: middle;\n",
       "    }\n",
       "\n",
       "    .dataframe tbody tr th {\n",
       "        vertical-align: top;\n",
       "    }\n",
       "\n",
       "    .dataframe thead th {\n",
       "        text-align: right;\n",
       "    }\n",
       "</style>\n",
       "<table border=\"1\" class=\"dataframe\">\n",
       "  <thead>\n",
       "    <tr style=\"text-align: right;\">\n",
       "      <th></th>\n",
       "      <th>Week</th>\n",
       "      <th>Business</th>\n",
       "      <th>Message</th>\n",
       "      <th>Email_Type</th>\n",
       "      <th>Delivered</th>\n",
       "      <th>Opened</th>\n",
       "      <th>Clicked</th>\n",
       "      <th>Unsubscribed</th>\n",
       "      <th>Open_Rate</th>\n",
       "      <th>Click_Rate</th>\n",
       "      <th>Unsub_Rate</th>\n",
       "    </tr>\n",
       "  </thead>\n",
       "  <tbody>\n",
       "    <tr>\n",
       "      <td>0</td>\n",
       "      <td>1</td>\n",
       "      <td>Clothing</td>\n",
       "      <td>ACQ_BABYKIDS_15_01_06_381</td>\n",
       "      <td>Trade</td>\n",
       "      <td>294890</td>\n",
       "      <td>73205</td>\n",
       "      <td>10249</td>\n",
       "      <td>1115</td>\n",
       "      <td>0.248245</td>\n",
       "      <td>0.034755</td>\n",
       "      <td>0.003781</td>\n",
       "    </tr>\n",
       "    <tr>\n",
       "      <td>1</td>\n",
       "      <td>1</td>\n",
       "      <td>Clothing</td>\n",
       "      <td>ACQ_INSTORE_15_01_06_382</td>\n",
       "      <td>Trade</td>\n",
       "      <td>308032</td>\n",
       "      <td>82619</td>\n",
       "      <td>18090</td>\n",
       "      <td>1119</td>\n",
       "      <td>0.268216</td>\n",
       "      <td>0.058728</td>\n",
       "      <td>0.003633</td>\n",
       "    </tr>\n",
       "    <tr>\n",
       "      <td>2</td>\n",
       "      <td>1</td>\n",
       "      <td>Homeware</td>\n",
       "      <td>ABASKET_15_01_01_902</td>\n",
       "      <td>Trade</td>\n",
       "      <td>1405</td>\n",
       "      <td>747</td>\n",
       "      <td>112</td>\n",
       "      <td>0</td>\n",
       "      <td>0.531673</td>\n",
       "      <td>0.079715</td>\n",
       "      <td>0.000000</td>\n",
       "    </tr>\n",
       "    <tr>\n",
       "      <td>3</td>\n",
       "      <td>1</td>\n",
       "      <td>Homeware</td>\n",
       "      <td>ABASKET_15_01_02_902</td>\n",
       "      <td>Trade</td>\n",
       "      <td>1314</td>\n",
       "      <td>690</td>\n",
       "      <td>135</td>\n",
       "      <td>2</td>\n",
       "      <td>0.525114</td>\n",
       "      <td>0.102740</td>\n",
       "      <td>0.001522</td>\n",
       "    </tr>\n",
       "    <tr>\n",
       "      <td>4</td>\n",
       "      <td>1</td>\n",
       "      <td>Homeware</td>\n",
       "      <td>ABASKET_15_01_05_902</td>\n",
       "      <td>Trade</td>\n",
       "      <td>1324</td>\n",
       "      <td>725</td>\n",
       "      <td>153</td>\n",
       "      <td>1</td>\n",
       "      <td>0.547583</td>\n",
       "      <td>0.115559</td>\n",
       "      <td>0.000755</td>\n",
       "    </tr>\n",
       "  </tbody>\n",
       "</table>\n",
       "</div>"
      ],
      "text/plain": [
       "   Week  Business                    Message Email_Type  Delivered  Opened  \\\n",
       "0     1  Clothing  ACQ_BABYKIDS_15_01_06_381      Trade     294890   73205   \n",
       "1     1  Clothing   ACQ_INSTORE_15_01_06_382      Trade     308032   82619   \n",
       "2     1  Homeware       ABASKET_15_01_01_902      Trade       1405     747   \n",
       "3     1  Homeware       ABASKET_15_01_02_902      Trade       1314     690   \n",
       "4     1  Homeware       ABASKET_15_01_05_902      Trade       1324     725   \n",
       "\n",
       "   Clicked  Unsubscribed  Open_Rate  Click_Rate  Unsub_Rate  \n",
       "0    10249          1115   0.248245    0.034755    0.003781  \n",
       "1    18090          1119   0.268216    0.058728    0.003633  \n",
       "2      112             0   0.531673    0.079715    0.000000  \n",
       "3      135             2   0.525114    0.102740    0.001522  \n",
       "4      153             1   0.547583    0.115559    0.000755  "
      ]
     },
     "execution_count": 6,
     "metadata": {},
     "output_type": "execute_result"
    }
   ],
   "source": [
    "email_report_cleaned.head()"
   ]
  },
  {
   "cell_type": "markdown",
   "metadata": {},
   "source": [
    "---\n",
    "## Model Building\n",
    "- The first step will be to divide the campaigns into 4 different groups based on their open, click and unsubscribe rate\n",
    "- We will not take click rate into consideration for Inform type of campaigns as the agenda was to just make the customer open that email and not click\n",
    "- Email Score will be calculated at a business and email type level\n",
    "- Finally, we will normailize the email score so as to decide the priority of the campaigns on a given day"
   ]
  },
  {
   "cell_type": "code",
   "execution_count": 7,
   "metadata": {},
   "outputs": [
    {
     "data": {
      "text/html": [
       "<div>\n",
       "<style scoped>\n",
       "    .dataframe tbody tr th:only-of-type {\n",
       "        vertical-align: middle;\n",
       "    }\n",
       "\n",
       "    .dataframe tbody tr th {\n",
       "        vertical-align: top;\n",
       "    }\n",
       "\n",
       "    .dataframe thead th {\n",
       "        text-align: right;\n",
       "    }\n",
       "</style>\n",
       "<table border=\"1\" class=\"dataframe\">\n",
       "  <thead>\n",
       "    <tr style=\"text-align: right;\">\n",
       "      <th></th>\n",
       "      <th>Week</th>\n",
       "      <th>Business</th>\n",
       "      <th>Message</th>\n",
       "      <th>Email_Type</th>\n",
       "      <th>Delivered</th>\n",
       "      <th>Opened</th>\n",
       "      <th>Clicked</th>\n",
       "      <th>Unsubscribed</th>\n",
       "      <th>Open_Rate</th>\n",
       "      <th>Click_Rate</th>\n",
       "      <th>Unsub_Rate</th>\n",
       "    </tr>\n",
       "  </thead>\n",
       "  <tbody>\n",
       "    <tr>\n",
       "      <td>0</td>\n",
       "      <td>1</td>\n",
       "      <td>Clothing</td>\n",
       "      <td>ACQ_BABYKIDS_15_01_06_381</td>\n",
       "      <td>Trade</td>\n",
       "      <td>294890</td>\n",
       "      <td>73205</td>\n",
       "      <td>10249</td>\n",
       "      <td>1115</td>\n",
       "      <td>0.248245</td>\n",
       "      <td>0.034755</td>\n",
       "      <td>0.003781</td>\n",
       "    </tr>\n",
       "    <tr>\n",
       "      <td>1</td>\n",
       "      <td>1</td>\n",
       "      <td>Clothing</td>\n",
       "      <td>ACQ_INSTORE_15_01_06_382</td>\n",
       "      <td>Trade</td>\n",
       "      <td>308032</td>\n",
       "      <td>82619</td>\n",
       "      <td>18090</td>\n",
       "      <td>1119</td>\n",
       "      <td>0.268216</td>\n",
       "      <td>0.058728</td>\n",
       "      <td>0.003633</td>\n",
       "    </tr>\n",
       "    <tr>\n",
       "      <td>2</td>\n",
       "      <td>1</td>\n",
       "      <td>Homeware</td>\n",
       "      <td>ABASKET_15_01_01_902</td>\n",
       "      <td>Trade</td>\n",
       "      <td>1405</td>\n",
       "      <td>747</td>\n",
       "      <td>112</td>\n",
       "      <td>0</td>\n",
       "      <td>0.531673</td>\n",
       "      <td>0.079715</td>\n",
       "      <td>0.000000</td>\n",
       "    </tr>\n",
       "    <tr>\n",
       "      <td>3</td>\n",
       "      <td>1</td>\n",
       "      <td>Homeware</td>\n",
       "      <td>ABASKET_15_01_02_902</td>\n",
       "      <td>Trade</td>\n",
       "      <td>1314</td>\n",
       "      <td>690</td>\n",
       "      <td>135</td>\n",
       "      <td>2</td>\n",
       "      <td>0.525114</td>\n",
       "      <td>0.102740</td>\n",
       "      <td>0.001522</td>\n",
       "    </tr>\n",
       "    <tr>\n",
       "      <td>4</td>\n",
       "      <td>1</td>\n",
       "      <td>Homeware</td>\n",
       "      <td>ABASKET_15_01_05_902</td>\n",
       "      <td>Trade</td>\n",
       "      <td>1324</td>\n",
       "      <td>725</td>\n",
       "      <td>153</td>\n",
       "      <td>1</td>\n",
       "      <td>0.547583</td>\n",
       "      <td>0.115559</td>\n",
       "      <td>0.000755</td>\n",
       "    </tr>\n",
       "  </tbody>\n",
       "</table>\n",
       "</div>"
      ],
      "text/plain": [
       "   Week  Business                    Message Email_Type  Delivered  Opened  \\\n",
       "0     1  Clothing  ACQ_BABYKIDS_15_01_06_381      Trade     294890   73205   \n",
       "1     1  Clothing   ACQ_INSTORE_15_01_06_382      Trade     308032   82619   \n",
       "2     1  Homeware       ABASKET_15_01_01_902      Trade       1405     747   \n",
       "3     1  Homeware       ABASKET_15_01_02_902      Trade       1314     690   \n",
       "4     1  Homeware       ABASKET_15_01_05_902      Trade       1324     725   \n",
       "\n",
       "   Clicked  Unsubscribed  Open_Rate  Click_Rate  Unsub_Rate  \n",
       "0    10249          1115   0.248245    0.034755    0.003781  \n",
       "1    18090          1119   0.268216    0.058728    0.003633  \n",
       "2      112             0   0.531673    0.079715    0.000000  \n",
       "3      135             2   0.525114    0.102740    0.001522  \n",
       "4      153             1   0.547583    0.115559    0.000755  "
      ]
     },
     "execution_count": 7,
     "metadata": {},
     "output_type": "execute_result"
    }
   ],
   "source": [
    "train = email_report_cleaned.copy(deep=True)\n",
    "train.head()"
   ]
  },
  {
   "cell_type": "code",
   "execution_count": 8,
   "metadata": {},
   "outputs": [
    {
     "data": {
      "text/html": [
       "<div>\n",
       "<style scoped>\n",
       "    .dataframe tbody tr th:only-of-type {\n",
       "        vertical-align: middle;\n",
       "    }\n",
       "\n",
       "    .dataframe tbody tr th {\n",
       "        vertical-align: top;\n",
       "    }\n",
       "\n",
       "    .dataframe thead th {\n",
       "        text-align: right;\n",
       "    }\n",
       "</style>\n",
       "<table border=\"1\" class=\"dataframe\">\n",
       "  <thead>\n",
       "    <tr style=\"text-align: right;\">\n",
       "      <th>Email_Type</th>\n",
       "      <th>Inform</th>\n",
       "      <th>Trade</th>\n",
       "    </tr>\n",
       "    <tr>\n",
       "      <th>Business</th>\n",
       "      <th></th>\n",
       "      <th></th>\n",
       "    </tr>\n",
       "  </thead>\n",
       "  <tbody>\n",
       "    <tr>\n",
       "      <td>Clothing</td>\n",
       "      <td>7.702350</td>\n",
       "      <td>92.297650</td>\n",
       "    </tr>\n",
       "    <tr>\n",
       "      <td>Grocery</td>\n",
       "      <td>22.904564</td>\n",
       "      <td>77.095436</td>\n",
       "    </tr>\n",
       "    <tr>\n",
       "      <td>Homeware</td>\n",
       "      <td>12.192903</td>\n",
       "      <td>87.807097</td>\n",
       "    </tr>\n",
       "  </tbody>\n",
       "</table>\n",
       "</div>"
      ],
      "text/plain": [
       "Email_Type     Inform      Trade\n",
       "Business                        \n",
       "Clothing     7.702350  92.297650\n",
       "Grocery     22.904564  77.095436\n",
       "Homeware    12.192903  87.807097"
      ]
     },
     "execution_count": 8,
     "metadata": {},
     "output_type": "execute_result"
    }
   ],
   "source": [
    "summary = pd.crosstab(index=train.Business,\n",
    "                      columns=train.Email_Type)\n",
    "summary = summary.apply(lambda x: x / summary.sum(axis=1)) * 100\n",
    "summary"
   ]
  },
  {
   "cell_type": "markdown",
   "metadata": {},
   "source": [
    "## Open Score\n",
    "The campaigns will be divided into 4 groups based on their open rates"
   ]
  },
  {
   "cell_type": "code",
   "execution_count": 9,
   "metadata": {},
   "outputs": [],
   "source": [
    "open_rate_summary = train.groupby(['Business', 'Email_Type'])['Open_Rate'].describe()"
   ]
  },
  {
   "cell_type": "code",
   "execution_count": 10,
   "metadata": {},
   "outputs": [],
   "source": [
    "def create_open_score_metric(row):\n",
    "    global open_rate_summary\n",
    "    if row.Open_Rate > open_rate_summary.loc[row.Business, row.Email_Type]['min']\\\n",
    "      and row.Open_Rate < open_rate_summary.loc[row.Business, row.Email_Type]['25%']:\n",
    "        return 1\n",
    "    elif row.Open_Rate > open_rate_summary.loc[row.Business, row.Email_Type]['25%']\\\n",
    "      and row.Open_Rate < open_rate_summary.loc[row.Business, row.Email_Type]['50%']:\n",
    "        return 2\n",
    "    elif row.Open_Rate > open_rate_summary.loc[row.Business, row.Email_Type]['50%']\\\n",
    "      and row.Open_Rate < open_rate_summary.loc[row.Business, row.Email_Type]['75%']:\n",
    "        return 3\n",
    "    elif row.Open_Rate > open_rate_summary.loc[row.Business, row.Email_Type]['75%']\\\n",
    "      and row.Open_Rate < open_rate_summary.loc[row.Business, row.Email_Type]['max']:\n",
    "        return 4\n",
    "    else:\n",
    "        return 0\n",
    "\n",
    "train['Open_Score'] = train.apply(create_open_score_metric, axis=1)"
   ]
  },
  {
   "cell_type": "markdown",
   "metadata": {},
   "source": [
    "---\n",
    "## Click Score\n",
    "The campaigns will be divided into 4 groups based on their click rates. However, we will ignore the Inform type campaigns as we don’t want the customers to click on such campaigns"
   ]
  },
  {
   "cell_type": "code",
   "execution_count": 11,
   "metadata": {},
   "outputs": [],
   "source": [
    "click_rate_summary = train.groupby(['Business', 'Email_Type'])['Click_Rate'].describe()\n",
    "\n",
    "def create_click_score_metric(row):\n",
    "    if row.Email_Type == 'Inform':\n",
    "        return 0\n",
    "    else:\n",
    "        if row.Click_Rate > click_rate_summary.loc[row.Business, row.Email_Type]['min']\\\n",
    "          and row.Click_Rate < click_rate_summary.loc[row.Business, row.Email_Type]['25%']:\n",
    "            return 1\n",
    "        elif row.Click_Rate > click_rate_summary.loc[row.Business, row.Email_Type]['25%']\\\n",
    "          and row.Click_Rate < click_rate_summary.loc[row.Business, row.Email_Type]['50%']:\n",
    "            return 2\n",
    "        elif row.Click_Rate > click_rate_summary.loc[row.Business, row.Email_Type]['50%']\\\n",
    "          and row.Click_Rate < click_rate_summary.loc[row.Business, row.Email_Type]['75%']:\n",
    "            return 3\n",
    "        elif row.Click_Rate > click_rate_summary.loc[row.Business, row.Email_Type]['75%']\\\n",
    "          and row.Click_Rate < click_rate_summary.loc[row.Business, row.Email_Type]['max']:\n",
    "            return 4\n",
    "        else:\n",
    "            return 0\n",
    "    \n",
    "train['Click_Score'] = train.apply(create_click_score_metric, axis=1)"
   ]
  },
  {
   "cell_type": "markdown",
   "metadata": {},
   "source": [
    "## Unsubscribe Score\n",
    "Ideally, we would want our unsubscribe rate to be less therefore the campaigns with high unsubscribe rate will be penalized by assigning a high negative score. Also, in this case we will not calculate it at a business or an email type because our aim is to keep our customers engaged in every communication and not to lose them by sending irrelevant communications"
   ]
  },
  {
   "cell_type": "code",
   "execution_count": 12,
   "metadata": {},
   "outputs": [
    {
     "data": {
      "text/plain": [
       "count    3070.000000\n",
       "mean        0.002973\n",
       "std         0.015970\n",
       "min         0.000000\n",
       "25%         0.000000\n",
       "50%         0.000072\n",
       "75%         0.000989\n",
       "max         0.504425\n",
       "Name: Unsub_Rate, dtype: float64"
      ]
     },
     "execution_count": 12,
     "metadata": {},
     "output_type": "execute_result"
    }
   ],
   "source": [
    "train.Unsub_Rate.describe()"
   ]
  },
  {
   "cell_type": "code",
   "execution_count": 13,
   "metadata": {},
   "outputs": [],
   "source": [
    "# Unsubcribe Score\n",
    "def create_unsub_rate_metric(row):\n",
    "    if row > 0.0010 and row <= 0.0030:\n",
    "        return -2\n",
    "    elif row > 0.0030 and row <= 0.0050:\n",
    "        return -3\n",
    "    elif row > 0.0050:\n",
    "        return -4\n",
    "    else:\n",
    "        return 0\n",
    "\n",
    "train['Unsub_Score'] = train['Unsub_Rate'].apply(create_unsub_rate_metric)\n"
   ]
  },
  {
   "cell_type": "markdown",
   "metadata": {},
   "source": [
    "---\n",
    "## Email Score\n",
    "The Email Score will be calculated by incorporating the scores calculated above\n",
    "\n",
    "- The first step will be to assign weights to each of the given components depending on the email type\n",
    "- The second step will involve combining these individual scores into one final score\n",
    "- Calculate a final normalize score that will be used to priortize the campaigns on a given day"
   ]
  },
  {
   "cell_type": "code",
   "execution_count": 14,
   "metadata": {},
   "outputs": [],
   "source": [
    "# Email Score\n",
    "# ES for Inform = 5 x Open Score + Unsubscribe Score                \n",
    "# ES for Trade =    2 x Open Score + 3 x Click Score + Unsubscribe Score   \n",
    "\n",
    "def create_email_score_metric(row):\n",
    "    if row.Email_Type == 'Inform':\n",
    "        return 5 * row.Open_Score + row.Unsub_Score\n",
    "    else:\n",
    "        return 2 * row.Open_Score + 3 * row.Click_Score + row.Unsub_Score\n",
    "    \n",
    "train['Email_Score'] = train.apply(create_email_score_metric, axis=1)\n",
    "train['Norm_Email_Score'] = train['Email_Score'].apply(lambda x: x / (max(train['Email_Score'] - min(train['Email_Score']))))\n"
   ]
  },
  {
   "cell_type": "markdown",
   "metadata": {},
   "source": [
    "## Model Application\n",
    "### Campaign Priortization\n",
    "\n",
    "Let’s say on a given day, we have 4 campaigns - A, B, C and D with Email Scores as 0.2, 0.4, 0.7 and 0.9 respectively. TO make sure that a customer receive only a single email in a day, we can rank these campaigns as per their ES like the followuing:\n",
    "\n",
    "1. D\n",
    "2. C\n",
    "3. B\n",
    "4. A\n",
    "\n",
    "Now, say there is a customer “Pankaj” who is a part of the targeting for campaigns D, C and B. By this scoring, we will only send him campaign D and suppress him from receving B and C. This way, the customer receives our best campaign.\n",
    "\n",
    "**Campaign Optimization**\n",
    "\n",
    "This scoring can also be used to stop the campaigns which are not performing well. For Example: A trade campaign in Grocery was launched and after 6 deployments its final average score is 0.4. Looking at the results below, we can clearly say that this campaign is not performing well (as its score is below 50 percentile) and therefore can be stopped. Thus, it can help in optimizing a firm’s marketing strategy.\n",
    "\n"
   ]
  },
  {
   "cell_type": "code",
   "execution_count": 15,
   "metadata": {},
   "outputs": [
    {
     "data": {
      "text/html": [
       "<div>\n",
       "<style scoped>\n",
       "    .dataframe tbody tr th:only-of-type {\n",
       "        vertical-align: middle;\n",
       "    }\n",
       "\n",
       "    .dataframe tbody tr th {\n",
       "        vertical-align: top;\n",
       "    }\n",
       "\n",
       "    .dataframe thead th {\n",
       "        text-align: right;\n",
       "    }\n",
       "</style>\n",
       "<table border=\"1\" class=\"dataframe\">\n",
       "  <thead>\n",
       "    <tr style=\"text-align: right;\">\n",
       "      <th></th>\n",
       "      <th>Business</th>\n",
       "      <th>Email_Type</th>\n",
       "      <th>count</th>\n",
       "      <th>mean</th>\n",
       "      <th>std</th>\n",
       "      <th>min</th>\n",
       "      <th>25%</th>\n",
       "      <th>50%</th>\n",
       "      <th>75%</th>\n",
       "      <th>max</th>\n",
       "    </tr>\n",
       "  </thead>\n",
       "  <tbody>\n",
       "    <tr>\n",
       "      <td>0</td>\n",
       "      <td>Clothing</td>\n",
       "      <td>Inform</td>\n",
       "      <td>59.0</td>\n",
       "      <td>0.494350</td>\n",
       "      <td>0.256321</td>\n",
       "      <td>0.000000</td>\n",
       "      <td>0.208333</td>\n",
       "      <td>0.416667</td>\n",
       "      <td>0.625000</td>\n",
       "      <td>0.833333</td>\n",
       "    </tr>\n",
       "    <tr>\n",
       "      <td>1</td>\n",
       "      <td>Clothing</td>\n",
       "      <td>Trade</td>\n",
       "      <td>707.0</td>\n",
       "      <td>0.506424</td>\n",
       "      <td>0.228714</td>\n",
       "      <td>0.041667</td>\n",
       "      <td>0.291667</td>\n",
       "      <td>0.500000</td>\n",
       "      <td>0.708333</td>\n",
       "      <td>0.833333</td>\n",
       "    </tr>\n",
       "    <tr>\n",
       "      <td>2</td>\n",
       "      <td>Grocery</td>\n",
       "      <td>Inform</td>\n",
       "      <td>276.0</td>\n",
       "      <td>0.446256</td>\n",
       "      <td>0.254887</td>\n",
       "      <td>-0.166667</td>\n",
       "      <td>0.208333</td>\n",
       "      <td>0.416667</td>\n",
       "      <td>0.625000</td>\n",
       "      <td>0.833333</td>\n",
       "    </tr>\n",
       "    <tr>\n",
       "      <td>3</td>\n",
       "      <td>Grocery</td>\n",
       "      <td>Trade</td>\n",
       "      <td>929.0</td>\n",
       "      <td>0.473134</td>\n",
       "      <td>0.217561</td>\n",
       "      <td>0.000000</td>\n",
       "      <td>0.291667</td>\n",
       "      <td>0.500000</td>\n",
       "      <td>0.666667</td>\n",
       "      <td>0.833333</td>\n",
       "    </tr>\n",
       "    <tr>\n",
       "      <td>4</td>\n",
       "      <td>Homeware</td>\n",
       "      <td>Inform</td>\n",
       "      <td>134.0</td>\n",
       "      <td>0.478234</td>\n",
       "      <td>0.243049</td>\n",
       "      <td>0.000000</td>\n",
       "      <td>0.208333</td>\n",
       "      <td>0.416667</td>\n",
       "      <td>0.625000</td>\n",
       "      <td>0.833333</td>\n",
       "    </tr>\n",
       "    <tr>\n",
       "      <td>5</td>\n",
       "      <td>Homeware</td>\n",
       "      <td>Trade</td>\n",
       "      <td>965.0</td>\n",
       "      <td>0.499611</td>\n",
       "      <td>0.211784</td>\n",
       "      <td>-0.083333</td>\n",
       "      <td>0.333333</td>\n",
       "      <td>0.500000</td>\n",
       "      <td>0.666667</td>\n",
       "      <td>0.833333</td>\n",
       "    </tr>\n",
       "  </tbody>\n",
       "</table>\n",
       "</div>"
      ],
      "text/plain": [
       "   Business Email_Type  count      mean       std       min       25%  \\\n",
       "0  Clothing     Inform   59.0  0.494350  0.256321  0.000000  0.208333   \n",
       "1  Clothing      Trade  707.0  0.506424  0.228714  0.041667  0.291667   \n",
       "2   Grocery     Inform  276.0  0.446256  0.254887 -0.166667  0.208333   \n",
       "3   Grocery      Trade  929.0  0.473134  0.217561  0.000000  0.291667   \n",
       "4  Homeware     Inform  134.0  0.478234  0.243049  0.000000  0.208333   \n",
       "5  Homeware      Trade  965.0  0.499611  0.211784 -0.083333  0.333333   \n",
       "\n",
       "        50%       75%       max  \n",
       "0  0.416667  0.625000  0.833333  \n",
       "1  0.500000  0.708333  0.833333  \n",
       "2  0.416667  0.625000  0.833333  \n",
       "3  0.500000  0.666667  0.833333  \n",
       "4  0.416667  0.625000  0.833333  \n",
       "5  0.500000  0.666667  0.833333  "
      ]
     },
     "execution_count": 15,
     "metadata": {},
     "output_type": "execute_result"
    }
   ],
   "source": [
    "train.groupby(['Business', 'Email_Type'])['Norm_Email_Score'].describe().reset_index()"
   ]
  },
  {
   "cell_type": "markdown",
   "metadata": {},
   "source": [
    "**Customer Segmentation**\n",
    "\n",
    "A similar score can be calculated at a customer level based on the number of emails he/she has opened/clicked and thus the customers with high score can be targeted frequently as compared to the other customers. We can also also include the revenue metric while calculating the final score.\n",
    "\n",
    "Lets understand by importing a sample customer file with 1306 unique customers. This file has: * Customer Number: Customer Identifier * Email_Address: Email of the customer * Business: from which business he received an email * Received: Total number of Emails Received * Opened: Number of emails opened * Clicked: Number of emails clicked * Open Rate: Opened/Received * Click Rate: Clicked/Received\n",
    "\n",
    "Here, we are not taking the unsubscribe, because once a customer unsubscribes, he will never receive an email again so by default the value will be either 1 or 0"
   ]
  },
  {
   "cell_type": "code",
   "execution_count": 16,
   "metadata": {},
   "outputs": [
    {
     "name": "stdout",
     "output_type": "stream",
     "text": [
      "<class 'pandas.core.frame.DataFrame'>\n",
      "RangeIndex: 1418 entries, 0 to 1417\n",
      "Data columns (total 8 columns):\n",
      "Customer_Number    1418 non-null int64\n",
      "email_address      1418 non-null object\n",
      "Business           1418 non-null object\n",
      "Received           1418 non-null int64\n",
      "Opened             1418 non-null int64\n",
      "Clicked            1418 non-null int64\n",
      "Open Rate          1418 non-null float64\n",
      "Click Rate         1418 non-null float64\n",
      "dtypes: float64(2), int64(4), object(2)\n",
      "memory usage: 88.8+ KB\n"
     ]
    }
   ],
   "source": [
    "customer = pd.read_csv('Customer_Report.csv')\n",
    "customer.info()"
   ]
  },
  {
   "cell_type": "code",
   "execution_count": 17,
   "metadata": {},
   "outputs": [
    {
     "data": {
      "text/html": [
       "<div>\n",
       "<style scoped>\n",
       "    .dataframe tbody tr th:only-of-type {\n",
       "        vertical-align: middle;\n",
       "    }\n",
       "\n",
       "    .dataframe tbody tr th {\n",
       "        vertical-align: top;\n",
       "    }\n",
       "\n",
       "    .dataframe thead th {\n",
       "        text-align: right;\n",
       "    }\n",
       "</style>\n",
       "<table border=\"1\" class=\"dataframe\">\n",
       "  <thead>\n",
       "    <tr style=\"text-align: right;\">\n",
       "      <th></th>\n",
       "      <th>Customer_Number</th>\n",
       "      <th>email_address</th>\n",
       "      <th>Business</th>\n",
       "      <th>Received</th>\n",
       "      <th>Opened</th>\n",
       "      <th>Clicked</th>\n",
       "      <th>Open Rate</th>\n",
       "      <th>Click Rate</th>\n",
       "    </tr>\n",
       "  </thead>\n",
       "  <tbody>\n",
       "    <tr>\n",
       "      <td>0</td>\n",
       "      <td>221931897</td>\n",
       "      <td>awat@wp.pl</td>\n",
       "      <td>Homeware</td>\n",
       "      <td>3</td>\n",
       "      <td>1</td>\n",
       "      <td>0</td>\n",
       "      <td>0.33</td>\n",
       "      <td>0.00</td>\n",
       "    </tr>\n",
       "    <tr>\n",
       "      <td>1</td>\n",
       "      <td>221934416</td>\n",
       "      <td>lesl@talktalk.net</td>\n",
       "      <td>Grocery</td>\n",
       "      <td>4</td>\n",
       "      <td>1</td>\n",
       "      <td>0</td>\n",
       "      <td>0.25</td>\n",
       "      <td>0.00</td>\n",
       "    </tr>\n",
       "    <tr>\n",
       "      <td>2</td>\n",
       "      <td>221935037</td>\n",
       "      <td>andy@live.co.uk</td>\n",
       "      <td>Homeware</td>\n",
       "      <td>3</td>\n",
       "      <td>1</td>\n",
       "      <td>0</td>\n",
       "      <td>0.33</td>\n",
       "      <td>0.00</td>\n",
       "    </tr>\n",
       "    <tr>\n",
       "      <td>3</td>\n",
       "      <td>221935420</td>\n",
       "      <td>b001@rocketmail.com</td>\n",
       "      <td>Homeware</td>\n",
       "      <td>4</td>\n",
       "      <td>1</td>\n",
       "      <td>0</td>\n",
       "      <td>0.25</td>\n",
       "      <td>0.00</td>\n",
       "    </tr>\n",
       "    <tr>\n",
       "      <td>4</td>\n",
       "      <td>221935568</td>\n",
       "      <td>bill@live.co.uk</td>\n",
       "      <td>Homeware</td>\n",
       "      <td>7</td>\n",
       "      <td>3</td>\n",
       "      <td>2</td>\n",
       "      <td>0.43</td>\n",
       "      <td>0.29</td>\n",
       "    </tr>\n",
       "  </tbody>\n",
       "</table>\n",
       "</div>"
      ],
      "text/plain": [
       "   Customer_Number        email_address  Business  Received  Opened  Clicked  \\\n",
       "0        221931897           awat@wp.pl  Homeware         3       1        0   \n",
       "1        221934416    lesl@talktalk.net   Grocery         4       1        0   \n",
       "2        221935037      andy@live.co.uk  Homeware         3       1        0   \n",
       "3        221935420  b001@rocketmail.com  Homeware         4       1        0   \n",
       "4        221935568      bill@live.co.uk  Homeware         7       3        2   \n",
       "\n",
       "   Open Rate  Click Rate  \n",
       "0       0.33        0.00  \n",
       "1       0.25        0.00  \n",
       "2       0.33        0.00  \n",
       "3       0.25        0.00  \n",
       "4       0.43        0.29  "
      ]
     },
     "execution_count": 17,
     "metadata": {},
     "output_type": "execute_result"
    }
   ],
   "source": [
    "customer.head()"
   ]
  },
  {
   "cell_type": "code",
   "execution_count": 18,
   "metadata": {},
   "outputs": [
    {
     "data": {
      "text/plain": [
       "Business\n",
       "Clothing    0.406639\n",
       "Grocery     0.371651\n",
       "Homeware    0.426606\n",
       "Name: Open_Rate, dtype: float64"
      ]
     },
     "execution_count": 18,
     "metadata": {},
     "output_type": "execute_result"
    }
   ],
   "source": [
    "train.groupby(['Business'])['Open_Rate'].median()"
   ]
  },
  {
   "cell_type": "code",
   "execution_count": 19,
   "metadata": {},
   "outputs": [
    {
     "data": {
      "text/plain": [
       "Business\n",
       "Clothing    0.33\n",
       "Grocery     0.38\n",
       "Homeware    0.40\n",
       "Name: Open Rate, dtype: float64"
      ]
     },
     "execution_count": 19,
     "metadata": {},
     "output_type": "execute_result"
    }
   ],
   "source": [
    "customer.groupby(['Business'])['Open Rate'].median()"
   ]
  },
  {
   "cell_type": "markdown",
   "metadata": {},
   "source": [
    "---\n",
    "##### We can see that for Clothing, Grocery and Homeware, the median open rate is 40.64%, 37.12% and 42.65% respectively. Now, let’s count the number of customers whose engagement is less than the threshold."
   ]
  },
  {
   "cell_type": "code",
   "execution_count": 20,
   "metadata": {},
   "outputs": [
    {
     "data": {
      "text/plain": [
       "0.1864406779661017"
      ]
     },
     "execution_count": 20,
     "metadata": {},
     "output_type": "execute_result"
    }
   ],
   "source": [
    "customer[(customer.Business=='Clothing') & (customer['Open Rate'] > 0.4064)].shape[0] \\\n",
    " / customer[customer.Business=='Clothing'].shape[0]"
   ]
  },
  {
   "cell_type": "code",
   "execution_count": 21,
   "metadata": {},
   "outputs": [
    {
     "data": {
      "text/plain": [
       "0.5418994413407822"
      ]
     },
     "execution_count": 21,
     "metadata": {},
     "output_type": "execute_result"
    }
   ],
   "source": [
    "customer[(customer.Business=='Grocery') & (customer['Open Rate'] > 0.3712)].shape[0] \\\n",
    " / customer[customer.Business=='Grocery'].shape[0]"
   ]
  },
  {
   "cell_type": "code",
   "execution_count": 22,
   "metadata": {},
   "outputs": [
    {
     "data": {
      "text/plain": [
       "0.3150684931506849"
      ]
     },
     "execution_count": 22,
     "metadata": {},
     "output_type": "execute_result"
    }
   ],
   "source": [
    "customer[(customer.Business=='Homeware') & (customer['Open Rate'] > 0.4265)].shape[0] \\\n",
    " / customer[customer.Business=='Homeware'].shape[0]"
   ]
  },
  {
   "cell_type": "markdown",
   "metadata": {},
   "source": [
    "\n",
    "   - We can clearly see that only 18.6% of the customers who receive Clothing emails are actually engaged with the content\n",
    "   - 54% of the customers who received Grocery emails are actually interested in them\n",
    "   - 31.5% of the customers are interested in receiving Homeware emails\n",
    "\n",
    "Hence, we can stop sending the emails to Zombies (basically the non-engaged customers)\n",
    "\n",
    "---\n",
    "---"
   ]
  },
  {
   "cell_type": "code",
   "execution_count": null,
   "metadata": {},
   "outputs": [],
   "source": []
  }
 ],
 "metadata": {
  "kernelspec": {
   "display_name": "Python 3",
   "language": "python",
   "name": "python3"
  },
  "language_info": {
   "codemirror_mode": {
    "name": "ipython",
    "version": 3
   },
   "file_extension": ".py",
   "mimetype": "text/x-python",
   "name": "python",
   "nbconvert_exporter": "python",
   "pygments_lexer": "ipython3",
   "version": "3.6.8"
  }
 },
 "nbformat": 4,
 "nbformat_minor": 4
}
